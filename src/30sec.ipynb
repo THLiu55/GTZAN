{
  "cells": [
    {
      "cell_type": "markdown",
      "metadata": {
        "id": "64XU4Pdp8Y4G"
      },
      "source": [
        "### Upload data to colab"
      ]
    },
    {
      "cell_type": "code",
      "execution_count": 1,
      "metadata": {
        "id": "qZMUTNDbiMP5"
      },
      "outputs": [],
      "source": [
        "# from google.colab import files\n",
        "# uploaded = files.upload()  # upload features_3_sec.csv"
      ]
    },
    {
      "cell_type": "markdown",
      "metadata": {
        "id": "pMIeBPfC8Y4I"
      },
      "source": [
        "### Import Library"
      ]
    },
    {
      "cell_type": "code",
      "execution_count": 2,
      "metadata": {
        "id": "58a_jckliyvE"
      },
      "outputs": [],
      "source": [
        "import pandas as pd\n",
        "import numpy as np\n",
        "from sklearn.preprocessing import LabelEncoder\n",
        "from sklearn.model_selection import train_test_split\n",
        "from sklearn.preprocessing import StandardScaler\n",
        "import torch.optim as optim\n",
        "import torch\n",
        "import matplotlib.pyplot as plt\n",
        "from sklearn.metrics import classification_report\n",
        "import torch.nn as nn\n",
        "np.random.seed(42)"
      ]
    },
    {
      "cell_type": "markdown",
      "metadata": {
        "id": "ykJEQV2RlIh-"
      },
      "source": [
        "### Data read in & Preprocess"
      ]
    },
    {
      "cell_type": "code",
      "execution_count": 3,
      "metadata": {
        "colab": {
          "base_uri": "https://localhost:8080/",
          "height": 255
        },
        "id": "HBpoGCxukINh",
        "outputId": "1af78fb1-f33f-48ce-f390-39338b562322"
      },
      "outputs": [
        {
          "data": {
            "text/html": [
              "<div>\n",
              "<style scoped>\n",
              "    .dataframe tbody tr th:only-of-type {\n",
              "        vertical-align: middle;\n",
              "    }\n",
              "\n",
              "    .dataframe tbody tr th {\n",
              "        vertical-align: top;\n",
              "    }\n",
              "\n",
              "    .dataframe thead th {\n",
              "        text-align: right;\n",
              "    }\n",
              "</style>\n",
              "<table border=\"1\" class=\"dataframe\">\n",
              "  <thead>\n",
              "    <tr style=\"text-align: right;\">\n",
              "      <th></th>\n",
              "      <th>filename</th>\n",
              "      <th>length</th>\n",
              "      <th>chroma_stft_mean</th>\n",
              "      <th>chroma_stft_var</th>\n",
              "      <th>rms_mean</th>\n",
              "      <th>rms_var</th>\n",
              "      <th>spectral_centroid_mean</th>\n",
              "      <th>spectral_centroid_var</th>\n",
              "      <th>spectral_bandwidth_mean</th>\n",
              "      <th>spectral_bandwidth_var</th>\n",
              "      <th>...</th>\n",
              "      <th>mfcc16_var</th>\n",
              "      <th>mfcc17_mean</th>\n",
              "      <th>mfcc17_var</th>\n",
              "      <th>mfcc18_mean</th>\n",
              "      <th>mfcc18_var</th>\n",
              "      <th>mfcc19_mean</th>\n",
              "      <th>mfcc19_var</th>\n",
              "      <th>mfcc20_mean</th>\n",
              "      <th>mfcc20_var</th>\n",
              "      <th>label</th>\n",
              "    </tr>\n",
              "  </thead>\n",
              "  <tbody>\n",
              "    <tr>\n",
              "      <th>0</th>\n",
              "      <td>blues.00000.wav</td>\n",
              "      <td>661794</td>\n",
              "      <td>0.350088</td>\n",
              "      <td>0.088757</td>\n",
              "      <td>0.130228</td>\n",
              "      <td>0.002827</td>\n",
              "      <td>1784.165850</td>\n",
              "      <td>129774.064525</td>\n",
              "      <td>2002.449060</td>\n",
              "      <td>85882.761315</td>\n",
              "      <td>...</td>\n",
              "      <td>52.420910</td>\n",
              "      <td>-1.690215</td>\n",
              "      <td>36.524071</td>\n",
              "      <td>-0.408979</td>\n",
              "      <td>41.597103</td>\n",
              "      <td>-2.303523</td>\n",
              "      <td>55.062923</td>\n",
              "      <td>1.221291</td>\n",
              "      <td>46.936035</td>\n",
              "      <td>blues</td>\n",
              "    </tr>\n",
              "    <tr>\n",
              "      <th>1</th>\n",
              "      <td>blues.00001.wav</td>\n",
              "      <td>661794</td>\n",
              "      <td>0.340914</td>\n",
              "      <td>0.094980</td>\n",
              "      <td>0.095948</td>\n",
              "      <td>0.002373</td>\n",
              "      <td>1530.176679</td>\n",
              "      <td>375850.073649</td>\n",
              "      <td>2039.036516</td>\n",
              "      <td>213843.755497</td>\n",
              "      <td>...</td>\n",
              "      <td>55.356403</td>\n",
              "      <td>-0.731125</td>\n",
              "      <td>60.314529</td>\n",
              "      <td>0.295073</td>\n",
              "      <td>48.120598</td>\n",
              "      <td>-0.283518</td>\n",
              "      <td>51.106190</td>\n",
              "      <td>0.531217</td>\n",
              "      <td>45.786282</td>\n",
              "      <td>blues</td>\n",
              "    </tr>\n",
              "    <tr>\n",
              "      <th>2</th>\n",
              "      <td>blues.00002.wav</td>\n",
              "      <td>661794</td>\n",
              "      <td>0.363637</td>\n",
              "      <td>0.085275</td>\n",
              "      <td>0.175570</td>\n",
              "      <td>0.002746</td>\n",
              "      <td>1552.811865</td>\n",
              "      <td>156467.643368</td>\n",
              "      <td>1747.702312</td>\n",
              "      <td>76254.192257</td>\n",
              "      <td>...</td>\n",
              "      <td>40.598766</td>\n",
              "      <td>-7.729093</td>\n",
              "      <td>47.639427</td>\n",
              "      <td>-1.816407</td>\n",
              "      <td>52.382141</td>\n",
              "      <td>-3.439720</td>\n",
              "      <td>46.639660</td>\n",
              "      <td>-2.231258</td>\n",
              "      <td>30.573025</td>\n",
              "      <td>blues</td>\n",
              "    </tr>\n",
              "    <tr>\n",
              "      <th>3</th>\n",
              "      <td>blues.00003.wav</td>\n",
              "      <td>661794</td>\n",
              "      <td>0.404785</td>\n",
              "      <td>0.093999</td>\n",
              "      <td>0.141093</td>\n",
              "      <td>0.006346</td>\n",
              "      <td>1070.106615</td>\n",
              "      <td>184355.942417</td>\n",
              "      <td>1596.412872</td>\n",
              "      <td>166441.494769</td>\n",
              "      <td>...</td>\n",
              "      <td>44.427753</td>\n",
              "      <td>-3.319597</td>\n",
              "      <td>50.206673</td>\n",
              "      <td>0.636965</td>\n",
              "      <td>37.319130</td>\n",
              "      <td>-0.619121</td>\n",
              "      <td>37.259739</td>\n",
              "      <td>-3.407448</td>\n",
              "      <td>31.949339</td>\n",
              "      <td>blues</td>\n",
              "    </tr>\n",
              "    <tr>\n",
              "      <th>4</th>\n",
              "      <td>blues.00004.wav</td>\n",
              "      <td>661794</td>\n",
              "      <td>0.308526</td>\n",
              "      <td>0.087841</td>\n",
              "      <td>0.091529</td>\n",
              "      <td>0.002303</td>\n",
              "      <td>1835.004266</td>\n",
              "      <td>343399.939274</td>\n",
              "      <td>1748.172116</td>\n",
              "      <td>88445.209036</td>\n",
              "      <td>...</td>\n",
              "      <td>86.099236</td>\n",
              "      <td>-5.454034</td>\n",
              "      <td>75.269707</td>\n",
              "      <td>-0.916874</td>\n",
              "      <td>53.613918</td>\n",
              "      <td>-4.404827</td>\n",
              "      <td>62.910812</td>\n",
              "      <td>-11.703234</td>\n",
              "      <td>55.195160</td>\n",
              "      <td>blues</td>\n",
              "    </tr>\n",
              "  </tbody>\n",
              "</table>\n",
              "<p>5 rows × 60 columns</p>\n",
              "</div>"
            ],
            "text/plain": [
              "          filename  length  chroma_stft_mean  chroma_stft_var  rms_mean  \\\n",
              "0  blues.00000.wav  661794          0.350088         0.088757  0.130228   \n",
              "1  blues.00001.wav  661794          0.340914         0.094980  0.095948   \n",
              "2  blues.00002.wav  661794          0.363637         0.085275  0.175570   \n",
              "3  blues.00003.wav  661794          0.404785         0.093999  0.141093   \n",
              "4  blues.00004.wav  661794          0.308526         0.087841  0.091529   \n",
              "\n",
              "    rms_var  spectral_centroid_mean  spectral_centroid_var  \\\n",
              "0  0.002827             1784.165850          129774.064525   \n",
              "1  0.002373             1530.176679          375850.073649   \n",
              "2  0.002746             1552.811865          156467.643368   \n",
              "3  0.006346             1070.106615          184355.942417   \n",
              "4  0.002303             1835.004266          343399.939274   \n",
              "\n",
              "   spectral_bandwidth_mean  spectral_bandwidth_var  ...  mfcc16_var  \\\n",
              "0              2002.449060            85882.761315  ...   52.420910   \n",
              "1              2039.036516           213843.755497  ...   55.356403   \n",
              "2              1747.702312            76254.192257  ...   40.598766   \n",
              "3              1596.412872           166441.494769  ...   44.427753   \n",
              "4              1748.172116            88445.209036  ...   86.099236   \n",
              "\n",
              "   mfcc17_mean  mfcc17_var  mfcc18_mean  mfcc18_var  mfcc19_mean  mfcc19_var  \\\n",
              "0    -1.690215   36.524071    -0.408979   41.597103    -2.303523   55.062923   \n",
              "1    -0.731125   60.314529     0.295073   48.120598    -0.283518   51.106190   \n",
              "2    -7.729093   47.639427    -1.816407   52.382141    -3.439720   46.639660   \n",
              "3    -3.319597   50.206673     0.636965   37.319130    -0.619121   37.259739   \n",
              "4    -5.454034   75.269707    -0.916874   53.613918    -4.404827   62.910812   \n",
              "\n",
              "   mfcc20_mean  mfcc20_var  label  \n",
              "0     1.221291   46.936035  blues  \n",
              "1     0.531217   45.786282  blues  \n",
              "2    -2.231258   30.573025  blues  \n",
              "3    -3.407448   31.949339  blues  \n",
              "4   -11.703234   55.195160  blues  \n",
              "\n",
              "[5 rows x 60 columns]"
            ]
          },
          "execution_count": 3,
          "metadata": {},
          "output_type": "execute_result"
        }
      ],
      "source": [
        "df = pd.read_csv(\"features_30_sec.csv\")\n",
        "df.head()"
      ]
    },
    {
      "cell_type": "code",
      "execution_count": 4,
      "metadata": {
        "id": "Ey-tXK52lRqI"
      },
      "outputs": [],
      "source": [
        "df=df.drop(labels=\"filename\",axis=1)"
      ]
    },
    {
      "cell_type": "code",
      "execution_count": 5,
      "metadata": {
        "id": "jxv783IjkIiA"
      },
      "outputs": [],
      "source": [
        "class_list=df.iloc[:,-1]\n",
        "converter=LabelEncoder()\n",
        "y=converter.fit_transform(class_list)"
      ]
    },
    {
      "cell_type": "code",
      "execution_count": 6,
      "metadata": {
        "colab": {
          "base_uri": "https://localhost:8080/"
        },
        "id": "ycTfTQpYkq2P",
        "outputId": "b0766926-cd9d-4cbd-94cf-24d9f728b55f"
      },
      "outputs": [
        {
          "name": "stdout",
          "output_type": "stream",
          "text": [
            "     length  chroma_stft_mean  chroma_stft_var  rms_mean   rms_var  \\\n",
            "0    661794          0.350088         0.088757  0.130228  0.002827   \n",
            "1    661794          0.340914         0.094980  0.095948  0.002373   \n",
            "2    661794          0.363637         0.085275  0.175570  0.002746   \n",
            "3    661794          0.404785         0.093999  0.141093  0.006346   \n",
            "4    661794          0.308526         0.087841  0.091529  0.002303   \n",
            "..      ...               ...              ...       ...       ...   \n",
            "995  661794          0.352063         0.080487  0.079486  0.000345   \n",
            "996  661794          0.398687         0.075086  0.076458  0.000588   \n",
            "997  661794          0.432142         0.075268  0.081651  0.000322   \n",
            "998  661794          0.362485         0.091506  0.083860  0.001211   \n",
            "999  661794          0.358401         0.085884  0.054454  0.000336   \n",
            "\n",
            "     spectral_centroid_mean  spectral_centroid_var  spectral_bandwidth_mean  \\\n",
            "0               1784.165850          129774.064525              2002.449060   \n",
            "1               1530.176679          375850.073649              2039.036516   \n",
            "2               1552.811865          156467.643368              1747.702312   \n",
            "3               1070.106615          184355.942417              1596.412872   \n",
            "4               1835.004266          343399.939274              1748.172116   \n",
            "..                      ...                    ...                      ...   \n",
            "995             2008.149458          282174.689224              2106.541053   \n",
            "996             2006.843354          182114.709510              2068.942009   \n",
            "997             2077.526598          231657.968040              1927.293153   \n",
            "998             1398.699344          240318.731073              1818.450280   \n",
            "999             1609.795082          422203.216152              1797.213044   \n",
            "\n",
            "     spectral_bandwidth_var  rolloff_mean  ...  mfcc16_mean  mfcc16_var  \\\n",
            "0              85882.761315   3805.839606  ...     0.752740   52.420910   \n",
            "1             213843.755497   3550.522098  ...     0.927998   55.356403   \n",
            "2              76254.192257   3042.260232  ...     2.451690   40.598766   \n",
            "3             166441.494769   2184.745799  ...     0.780874   44.427753   \n",
            "4              88445.209036   3579.757627  ...    -4.520576   86.099236   \n",
            "..                      ...           ...  ...          ...         ...   \n",
            "995            88609.749506   4253.557033  ...     1.789867   45.050526   \n",
            "996            82426.016726   4149.338328  ...     3.739020   33.851742   \n",
            "997            74717.124394   4031.405321  ...     1.838090   33.597008   \n",
            "998           109090.207161   3015.631004  ...    -2.812176   46.324894   \n",
            "999           120115.632927   3246.908930  ...     1.794104   59.167755   \n",
            "\n",
            "     mfcc17_mean  mfcc17_var  mfcc18_mean  mfcc18_var  mfcc19_mean  \\\n",
            "0      -1.690215   36.524071    -0.408979   41.597103    -2.303523   \n",
            "1      -0.731125   60.314529     0.295073   48.120598    -0.283518   \n",
            "2      -7.729093   47.639427    -1.816407   52.382141    -3.439720   \n",
            "3      -3.319597   50.206673     0.636965   37.319130    -0.619121   \n",
            "4      -5.454034   75.269707    -0.916874   53.613918    -4.404827   \n",
            "..           ...         ...          ...         ...          ...   \n",
            "995   -13.289984   41.754955     2.484145   36.778877    -6.713265   \n",
            "996   -10.848309   39.395096     1.881229   32.010040    -7.461491   \n",
            "997   -12.845291   36.367264     3.440978   36.001110   -12.588070   \n",
            "998    -4.416050   43.583942     1.556207   34.331261    -5.041897   \n",
            "999    -7.069775   73.760391     0.028346   76.504326    -2.025783   \n",
            "\n",
            "     mfcc19_var  mfcc20_mean  mfcc20_var  \n",
            "0     55.062923     1.221291   46.936035  \n",
            "1     51.106190     0.531217   45.786282  \n",
            "2     46.639660    -2.231258   30.573025  \n",
            "3     37.259739    -3.407448   31.949339  \n",
            "4     62.910812   -11.703234   55.195160  \n",
            "..          ...          ...         ...  \n",
            "995   54.866825    -1.193787   49.950665  \n",
            "996   39.196327    -2.795338   31.773624  \n",
            "997   42.502201    -2.106337   29.865515  \n",
            "998   47.227180    -3.590644   41.299088  \n",
            "999   72.189316     1.155239   49.662510  \n",
            "\n",
            "[1000 rows x 58 columns]\n"
          ]
        }
      ],
      "source": [
        "print(df.iloc[:,:-1])"
      ]
    },
    {
      "cell_type": "code",
      "execution_count": 7,
      "metadata": {
        "id": "D0rta-yWkttE"
      },
      "outputs": [],
      "source": [
        "fit=StandardScaler()\n",
        "X=fit.fit_transform(np.array(df.iloc[:,:-1],dtype=float))"
      ]
    },
    {
      "cell_type": "code",
      "execution_count": 8,
      "metadata": {
        "id": "jqSknwqj8Y4J"
      },
      "outputs": [],
      "source": [
        "X_train,X_test,y_train,y_test=train_test_split(X,y,test_size=0.1)"
      ]
    },
    {
      "cell_type": "code",
      "execution_count": 9,
      "metadata": {
        "colab": {
          "base_uri": "https://localhost:8080/"
        },
        "id": "UmcoYXkG8Y4J",
        "outputId": "94d62704-f5ef-49ad-b5ff-f579b57150b9"
      },
      "outputs": [
        {
          "name": "stdout",
          "output_type": "stream",
          "text": [
            "Label 0: Proportion 9.67%\n",
            "Label 1: Proportion 10.44%\n",
            "Label 2: Proportion 9.67%\n",
            "Label 3: Proportion 10.0%\n",
            "Label 4: Proportion 10.44%\n",
            "Label 5: Proportion 9.67%\n",
            "Label 6: Proportion 9.67%\n",
            "Label 7: Proportion 10.22%\n",
            "Label 8: Proportion 10.11%\n",
            "Label 9: Proportion 10.11%\n"
          ]
        }
      ],
      "source": [
        "unique_elements, counts = np.unique(y_train, return_counts=True)\n",
        "proportions = counts / len(y_train)\n",
        "\n",
        "for element, proportion in zip(unique_elements, proportions):\n",
        "    # round to 2 decimal places and convert to percentage\n",
        "    proportion = round(proportion * 100, 2)\n",
        "    print(f\"Label {element}: Proportion {proportion}%\")\n"
      ]
    },
    {
      "cell_type": "markdown",
      "metadata": {
        "id": "jwIamkuN8Y4J"
      },
      "source": [
        "### Build the model"
      ]
    },
    {
      "cell_type": "code",
      "execution_count": 10,
      "metadata": {
        "id": "HWxHAxip8Y4J"
      },
      "outputs": [],
      "source": [
        "class MyModel(nn.Module):\n",
        "    def __init__(self, input_size, hidden_sizes, output_size, dropout_prob=0.2):\n",
        "        super(MyModel, self).__init__()\n",
        "        self.hidden_layers = nn.ModuleList()\n",
        "        self.hidden_sizes = [input_size] + hidden_sizes\n",
        "        for i in range(1, len(self.hidden_sizes)):\n",
        "            self.hidden_layers.append(nn.Sequential(\n",
        "                nn.Linear(self.hidden_sizes[i-1], self.hidden_sizes[i]),\n",
        "                nn.ReLU(),\n",
        "                nn.Dropout(dropout_prob)\n",
        "            ))\n",
        "        self.output_layer = nn.Linear(self.hidden_sizes[-1], output_size)\n",
        "        self.softmax = nn.Softmax(dim=1)\n",
        "\n",
        "    def forward(self, x):\n",
        "        for hidden_layer in self.hidden_layers:\n",
        "            x = hidden_layer(x)\n",
        "        x = self.output_layer(x)\n",
        "        x = self.softmax(x)\n",
        "        return x\n",
        "\n",
        "\n",
        "input_size = X_train.shape[1]\n",
        "hidden_sizes = [1024, 512, 256, 128]\n",
        "output_size = 10\n",
        "dropout_prob = 0.3\n",
        "\n",
        "model = MyModel(input_size, hidden_sizes, output_size, dropout_prob)\n"
      ]
    },
    {
      "cell_type": "code",
      "execution_count": 11,
      "metadata": {
        "colab": {
          "base_uri": "https://localhost:8080/"
        },
        "id": "8U7LSaEP8Y4J",
        "outputId": "ac3f037f-841a-4b03-c564-28a6886d5116"
      },
      "outputs": [
        {
          "name": "stdout",
          "output_type": "stream",
          "text": [
            "Epoch 10, Loss: 2.1083619594573975, Accuracy: 0.35333333333333333, Val loss: 2.1499929428100586, Val Accuracy: 0.29\n",
            "Epoch 20, Loss: 1.9875868558883667, Accuracy: 0.49, Val loss: 2.0627832412719727, Val Accuracy: 0.46\n",
            "Epoch 30, Loss: 1.8873846530914307, Accuracy: 0.5711111111111111, Val loss: 1.9477735757827759, Val Accuracy: 0.54\n",
            "Epoch 40, Loss: 1.8050358295440674, Accuracy: 0.6511111111111111, Val loss: 1.9025524854660034, Val Accuracy: 0.57\n",
            "Epoch 50, Loss: 1.7442213296890259, Accuracy: 0.7255555555555555, Val loss: 1.8139293193817139, Val Accuracy: 0.55\n",
            "Epoch 60, Loss: 1.6953692436218262, Accuracy: 0.7766666666666666, Val loss: 1.839776873588562, Val Accuracy: 0.65\n",
            "Epoch 70, Loss: 1.6490107774734497, Accuracy: 0.82, Val loss: 1.8162446022033691, Val Accuracy: 0.65\n",
            "Epoch 80, Loss: 1.6184765100479126, Accuracy: 0.8477777777777777, Val loss: 1.7819689512252808, Val Accuracy: 0.69\n",
            "Epoch 90, Loss: 1.5988707542419434, Accuracy: 0.8722222222222222, Val loss: 1.798317313194275, Val Accuracy: 0.69\n",
            "Epoch 100, Loss: 1.5751663446426392, Accuracy: 0.8922222222222222, Val loss: 1.7608473300933838, Val Accuracy: 0.74\n",
            "Epoch 110, Loss: 1.561375379562378, Accuracy: 0.9055555555555556, Val loss: 1.750787615776062, Val Accuracy: 0.74\n",
            "Epoch 120, Loss: 1.549347996711731, Accuracy: 0.9144444444444444, Val loss: 1.7264761924743652, Val Accuracy: 0.72\n",
            "Epoch 130, Loss: 1.5320372581481934, Accuracy: 0.9333333333333333, Val loss: 1.7437796592712402, Val Accuracy: 0.7\n",
            "Epoch 140, Loss: 1.524962306022644, Accuracy: 0.9411111111111111, Val loss: 1.6980613470077515, Val Accuracy: 0.76\n",
            "Epoch 150, Loss: 1.520127534866333, Accuracy: 0.9477777777777778, Val loss: 1.741951584815979, Val Accuracy: 0.7\n",
            "Epoch 160, Loss: 1.516900658607483, Accuracy: 0.9455555555555556, Val loss: 1.7681078910827637, Val Accuracy: 0.71\n",
            "Epoch 170, Loss: 1.509947657585144, Accuracy: 0.9511111111111111, Val loss: 1.7103338241577148, Val Accuracy: 0.75\n",
            "Epoch 180, Loss: 1.5067485570907593, Accuracy: 0.9555555555555556, Val loss: 1.7138886451721191, Val Accuracy: 0.72\n",
            "Epoch 190, Loss: 1.502185583114624, Accuracy: 0.9611111111111111, Val loss: 1.7219351530075073, Val Accuracy: 0.72\n",
            "Epoch 200, Loss: 1.5063830614089966, Accuracy: 0.9566666666666667, Val loss: 1.7117727994918823, Val Accuracy: 0.7\n",
            "Epoch 210, Loss: 1.5010877847671509, Accuracy: 0.9622222222222222, Val loss: 1.7510719299316406, Val Accuracy: 0.72\n",
            "Epoch 220, Loss: 1.502829670906067, Accuracy: 0.96, Val loss: 1.7037471532821655, Val Accuracy: 0.79\n",
            "Epoch 230, Loss: 1.4959253072738647, Accuracy: 0.9666666666666667, Val loss: 1.7324196100234985, Val Accuracy: 0.77\n",
            "Epoch 240, Loss: 1.4975026845932007, Accuracy: 0.9655555555555555, Val loss: 1.7061717510223389, Val Accuracy: 0.75\n",
            "Epoch 250, Loss: 1.4973247051239014, Accuracy: 0.9655555555555555, Val loss: 1.7151885032653809, Val Accuracy: 0.75\n",
            "Epoch 260, Loss: 1.4926738739013672, Accuracy: 0.97, Val loss: 1.6958574056625366, Val Accuracy: 0.8\n",
            "Epoch 270, Loss: 1.4968597888946533, Accuracy: 0.9666666666666667, Val loss: 1.7148486375808716, Val Accuracy: 0.73\n",
            "Epoch 280, Loss: 1.4944387674331665, Accuracy: 0.9677777777777777, Val loss: 1.6983704566955566, Val Accuracy: 0.71\n",
            "Epoch 290, Loss: 1.4927829504013062, Accuracy: 0.9677777777777777, Val loss: 1.745259404182434, Val Accuracy: 0.78\n",
            "Epoch 300, Loss: 1.4890609979629517, Accuracy: 0.9733333333333334, Val loss: 1.712172269821167, Val Accuracy: 0.75\n",
            "Epoch 310, Loss: 1.4904398918151855, Accuracy: 0.9744444444444444, Val loss: 1.7233281135559082, Val Accuracy: 0.7\n",
            "Epoch 320, Loss: 1.4886008501052856, Accuracy: 0.9733333333333334, Val loss: 1.734411358833313, Val Accuracy: 0.69\n",
            "Epoch 330, Loss: 1.4873019456863403, Accuracy: 0.9744444444444444, Val loss: 1.7385704517364502, Val Accuracy: 0.72\n",
            "Epoch 340, Loss: 1.4864728450775146, Accuracy: 0.9755555555555555, Val loss: 1.6932473182678223, Val Accuracy: 0.74\n",
            "Epoch 350, Loss: 1.4867573976516724, Accuracy: 0.9744444444444444, Val loss: 1.7298033237457275, Val Accuracy: 0.74\n",
            "Epoch 360, Loss: 1.4871149063110352, Accuracy: 0.9744444444444444, Val loss: 1.7134555578231812, Val Accuracy: 0.71\n",
            "Epoch 370, Loss: 1.4895795583724976, Accuracy: 0.9722222222222222, Val loss: 1.6989331245422363, Val Accuracy: 0.74\n",
            "Epoch 380, Loss: 1.4887369871139526, Accuracy: 0.9722222222222222, Val loss: 1.6895644664764404, Val Accuracy: 0.74\n",
            "Epoch 390, Loss: 1.4877464771270752, Accuracy: 0.9744444444444444, Val loss: 1.7208056449890137, Val Accuracy: 0.77\n",
            "Epoch 400, Loss: 1.4868104457855225, Accuracy: 0.9755555555555555, Val loss: 1.717740774154663, Val Accuracy: 0.74\n",
            "Epoch 410, Loss: 1.4870303869247437, Accuracy: 0.9744444444444444, Val loss: 1.6970744132995605, Val Accuracy: 0.76\n",
            "Epoch 420, Loss: 1.4882968664169312, Accuracy: 0.9733333333333334, Val loss: 1.7109103202819824, Val Accuracy: 0.74\n",
            "Epoch 430, Loss: 1.4858386516571045, Accuracy: 0.9766666666666667, Val loss: 1.7055038213729858, Val Accuracy: 0.78\n",
            "Epoch 440, Loss: 1.485414743423462, Accuracy: 0.9766666666666667, Val loss: 1.732123613357544, Val Accuracy: 0.72\n",
            "Epoch 450, Loss: 1.4874777793884277, Accuracy: 0.9744444444444444, Val loss: 1.6908906698226929, Val Accuracy: 0.77\n",
            "Epoch 460, Loss: 1.4856544733047485, Accuracy: 0.9755555555555555, Val loss: 1.720292568206787, Val Accuracy: 0.78\n",
            "Epoch 470, Loss: 1.484910488128662, Accuracy: 0.9777777777777777, Val loss: 1.6890510320663452, Val Accuracy: 0.75\n",
            "Epoch 480, Loss: 1.4853639602661133, Accuracy: 0.9755555555555555, Val loss: 1.7306106090545654, Val Accuracy: 0.79\n",
            "Epoch 490, Loss: 1.4883381128311157, Accuracy: 0.9733333333333334, Val loss: 1.694962739944458, Val Accuracy: 0.75\n",
            "Epoch 500, Loss: 1.4871902465820312, Accuracy: 0.9744444444444444, Val loss: 1.7060540914535522, Val Accuracy: 0.73\n",
            "Epoch 510, Loss: 1.4873616695404053, Accuracy: 0.9744444444444444, Val loss: 1.6677687168121338, Val Accuracy: 0.75\n",
            "Epoch 520, Loss: 1.4857455492019653, Accuracy: 0.9755555555555555, Val loss: 1.7077451944351196, Val Accuracy: 0.76\n",
            "Epoch 530, Loss: 1.4862761497497559, Accuracy: 0.9744444444444444, Val loss: 1.7304949760437012, Val Accuracy: 0.73\n",
            "Epoch 540, Loss: 1.4841208457946777, Accuracy: 0.9766666666666667, Val loss: 1.7343980073928833, Val Accuracy: 0.73\n",
            "Epoch 550, Loss: 1.4834697246551514, Accuracy: 0.9777777777777777, Val loss: 1.7339866161346436, Val Accuracy: 0.79\n",
            "Epoch 560, Loss: 1.4840452671051025, Accuracy: 0.9777777777777777, Val loss: 1.712839961051941, Val Accuracy: 0.78\n",
            "Epoch 570, Loss: 1.4820773601531982, Accuracy: 0.9788888888888889, Val loss: 1.7011396884918213, Val Accuracy: 0.74\n",
            "Epoch 580, Loss: 1.4847429990768433, Accuracy: 0.9766666666666667, Val loss: 1.6995197534561157, Val Accuracy: 0.73\n",
            "Epoch 590, Loss: 1.4857224225997925, Accuracy: 0.9744444444444444, Val loss: 1.7014899253845215, Val Accuracy: 0.75\n",
            "Epoch 600, Loss: 1.4850560426712036, Accuracy: 0.9766666666666667, Val loss: 1.6888619661331177, Val Accuracy: 0.75\n",
            "Epoch 610, Loss: 1.4826040267944336, Accuracy: 0.9788888888888889, Val loss: 1.6819450855255127, Val Accuracy: 0.75\n",
            "Epoch 620, Loss: 1.483488917350769, Accuracy: 0.9777777777777777, Val loss: 1.7051582336425781, Val Accuracy: 0.75\n",
            "Epoch 630, Loss: 1.4829587936401367, Accuracy: 0.9777777777777777, Val loss: 1.6851933002471924, Val Accuracy: 0.72\n",
            "Epoch 640, Loss: 1.4815901517868042, Accuracy: 0.98, Val loss: 1.6754666566848755, Val Accuracy: 0.75\n",
            "Epoch 650, Loss: 1.4831112623214722, Accuracy: 0.9788888888888889, Val loss: 1.7015734910964966, Val Accuracy: 0.78\n",
            "Epoch 660, Loss: 1.481807827949524, Accuracy: 0.98, Val loss: 1.6995596885681152, Val Accuracy: 0.75\n",
            "Epoch 670, Loss: 1.4834578037261963, Accuracy: 0.9777777777777777, Val loss: 1.711921215057373, Val Accuracy: 0.76\n",
            "Epoch 680, Loss: 1.481955647468567, Accuracy: 0.9788888888888889, Val loss: 1.6757954359054565, Val Accuracy: 0.76\n",
            "Epoch 690, Loss: 1.4812966585159302, Accuracy: 0.98, Val loss: 1.7236824035644531, Val Accuracy: 0.76\n",
            "Epoch 700, Loss: 1.4815131425857544, Accuracy: 0.98, Val loss: 1.6923915147781372, Val Accuracy: 0.71\n",
            "Epoch 710, Loss: 1.4830141067504883, Accuracy: 0.9777777777777777, Val loss: 1.7034001350402832, Val Accuracy: 0.77\n",
            "Epoch 720, Loss: 1.4811558723449707, Accuracy: 0.98, Val loss: 1.7276158332824707, Val Accuracy: 0.76\n",
            "Epoch 730, Loss: 1.481202244758606, Accuracy: 0.98, Val loss: 1.7154591083526611, Val Accuracy: 0.78\n",
            "Epoch 740, Loss: 1.4818063974380493, Accuracy: 0.9788888888888889, Val loss: 1.7049659490585327, Val Accuracy: 0.76\n",
            "Epoch 750, Loss: 1.4823716878890991, Accuracy: 0.9788888888888889, Val loss: 1.7146661281585693, Val Accuracy: 0.78\n",
            "Epoch 760, Loss: 1.4840404987335205, Accuracy: 0.9766666666666667, Val loss: 1.708746314048767, Val Accuracy: 0.73\n",
            "Epoch 770, Loss: 1.4835394620895386, Accuracy: 0.9777777777777777, Val loss: 1.6828852891921997, Val Accuracy: 0.76\n",
            "Epoch 780, Loss: 1.4842723608016968, Accuracy: 0.9766666666666667, Val loss: 1.6952459812164307, Val Accuracy: 0.77\n",
            "Epoch 790, Loss: 1.483198881149292, Accuracy: 0.9777777777777777, Val loss: 1.701474905014038, Val Accuracy: 0.78\n",
            "Epoch 800, Loss: 1.4832643270492554, Accuracy: 0.9777777777777777, Val loss: 1.7046154737472534, Val Accuracy: 0.76\n",
            "Epoch 810, Loss: 1.482017993927002, Accuracy: 0.9788888888888889, Val loss: 1.753299355506897, Val Accuracy: 0.77\n",
            "Epoch 820, Loss: 1.483251690864563, Accuracy: 0.9777777777777777, Val loss: 1.7220823764801025, Val Accuracy: 0.7\n",
            "Epoch 830, Loss: 1.4812431335449219, Accuracy: 0.98, Val loss: 1.6796780824661255, Val Accuracy: 0.75\n",
            "Epoch 840, Loss: 1.4822208881378174, Accuracy: 0.9788888888888889, Val loss: 1.7263239622116089, Val Accuracy: 0.72\n",
            "Epoch 850, Loss: 1.482230305671692, Accuracy: 0.9788888888888889, Val loss: 1.689591407775879, Val Accuracy: 0.75\n",
            "Epoch 860, Loss: 1.482322096824646, Accuracy: 0.9788888888888889, Val loss: 1.6925088167190552, Val Accuracy: 0.76\n",
            "Epoch 870, Loss: 1.4808881282806396, Accuracy: 0.98, Val loss: 1.6852740049362183, Val Accuracy: 0.73\n",
            "Epoch 880, Loss: 1.4826247692108154, Accuracy: 0.9788888888888889, Val loss: 1.7093594074249268, Val Accuracy: 0.76\n",
            "Epoch 890, Loss: 1.4793304204940796, Accuracy: 0.9822222222222222, Val loss: 1.7168575525283813, Val Accuracy: 0.76\n",
            "Epoch 900, Loss: 1.4805808067321777, Accuracy: 0.9811111111111112, Val loss: 1.6973998546600342, Val Accuracy: 0.76\n",
            "Epoch 910, Loss: 1.4805325269699097, Accuracy: 0.9811111111111112, Val loss: 1.7097855806350708, Val Accuracy: 0.75\n",
            "Epoch 920, Loss: 1.4811129570007324, Accuracy: 0.98, Val loss: 1.7151139974594116, Val Accuracy: 0.77\n",
            "Early stopping\n"
          ]
        }
      ],
      "source": [
        "\n",
        "criterion = nn.CrossEntropyLoss()\n",
        "optimizer = optim.Adam(model.parameters())\n",
        "\n",
        "# Check if GPU is available\n",
        "if torch.cuda.is_available():\n",
        "  dev = \"cuda:0\"\n",
        "else:\n",
        "  dev = \"cpu\"\n",
        "\n",
        "device = torch.device(dev)\n",
        "\n",
        "# Move your network and any necessary inputs to the GPU\n",
        "model = model.to(device)\n",
        "\n",
        "\n",
        "# Convert the training data to PyTorch tensors\n",
        "X_train_tensor = torch.tensor(X_train, dtype=torch.float32).to(device)\n",
        "y_train_tensor = torch.tensor(y_train, dtype=torch.long).to(device)\n",
        "X_test_tensor = torch.tensor(X_test, dtype=torch.float32).to(device)\n",
        "y_test_tensor = torch.tensor(y_test, dtype=torch.long).to(device)\n",
        "\n",
        "train_loss_log = []\n",
        "val_loss_log = []\n",
        "\n",
        "patience = 40  # Number of epochs to wait for improvement before stopping\n",
        "best_val_loss = float('inf')  # Initialize best validation loss\n",
        "patience_counter = 0  # Counter to keep track of the number of epochs without improvement\n",
        "\n",
        "# Train the model\n",
        "num_epochs = 5000\n",
        "for epoch in range(num_epochs):\n",
        "    optimizer.zero_grad()\n",
        "    y_pred = model(X_train_tensor)\n",
        "    loss = criterion(y_pred, y_train_tensor)\n",
        "    loss.backward()\n",
        "    optimizer.step()\n",
        "    if (epoch + 1) % 10 == 0:\n",
        "        accuracy = torch.sum(torch.argmax(y_pred, dim=1) == y_train_tensor).item() / len(y_train_tensor)\n",
        "        val_accuracy = torch.sum(torch.argmax(model(X_test_tensor), dim=1) == y_test_tensor.to(device)).item() / len(y_test)\n",
        "        val_loss = criterion(model(torch.tensor(X_test, dtype=torch.float32).to(device)), torch.tensor(y_test, dtype=torch.long).to(device))\n",
        "        train_loss_log.append(loss.item())\n",
        "        val_loss_log.append(val_loss.item())\n",
        "        print(f\"Epoch {epoch + 1}, Loss: {loss.item()}, Accuracy: {accuracy}, Val loss: {val_loss.item()}, Val Accuracy: {val_accuracy}\")\n",
        "\n",
        "        # Check for improvement\n",
        "        if val_loss < best_val_loss:\n",
        "            best_val_loss = val_loss\n",
        "            patience_counter = 0\n",
        "        else:\n",
        "            patience_counter += 1\n",
        "            if patience_counter > patience:\n",
        "                print(\"Early stopping\")\n",
        "                break"
      ]
    },
    {
      "cell_type": "code",
      "execution_count": 12,
      "metadata": {
        "colab": {
          "base_uri": "https://localhost:8080/",
          "height": 430
        },
        "id": "f3Cs4KpB8Y4J",
        "outputId": "a8273a0f-26d2-42e2-f08b-ee62d852234d"
      },
      "outputs": [
        {
          "data": {
            "image/png": "[encoded data removed]",
            "text/plain": [
              "<Figure size 640x480 with 1 Axes>"
            ]
          },
          "metadata": {},
          "output_type": "display_data"
        }
      ],
      "source": [
        "# plot the training and validation loss\n",
        "plt.plot(train_loss_log, label='Training loss')\n",
        "plt.plot(val_loss_log, label='Validation loss')\n",
        "plt.legend()\n",
        "plt.show()"
      ]
    },
    {
      "cell_type": "markdown",
      "metadata": {
        "id": "FnlVgxiJNFJP"
      },
      "source": [
        "### Evaluation"
      ]
    },
    {
      "cell_type": "code",
      "execution_count": 13,
      "metadata": {
        "colab": {
          "base_uri": "https://localhost:8080/"
        },
        "id": "jtCtqW2J_WiB",
        "outputId": "20439831-3d30-4a88-8c62-531e134e75d1"
      },
      "outputs": [
        {
          "name": "stdout",
          "output_type": "stream",
          "text": [
            "              precision    recall  f1-score   support\n",
            "\n",
            "           0       0.67      0.62      0.64        13\n",
            "           1       1.00      1.00      1.00         6\n",
            "           2       0.69      0.69      0.69        13\n",
            "           3       0.73      0.80      0.76        10\n",
            "           4       0.83      0.83      0.83         6\n",
            "           5       0.79      0.85      0.81        13\n",
            "           6       0.92      0.92      0.92        13\n",
            "           7       0.71      0.62      0.67         8\n",
            "           8       0.62      0.56      0.59         9\n",
            "           9       0.50      0.56      0.53         9\n",
            "\n",
            "    accuracy                           0.74       100\n",
            "   macro avg       0.75      0.74      0.74       100\n",
            "weighted avg       0.74      0.74      0.74       100\n",
            "\n"
          ]
        }
      ],
      "source": [
        "# 4 metrics to measure the performance in test set\n",
        "print(classification_report(y_test_tensor.detach().cpu().numpy(), torch.argmax(model(X_test_tensor), dim=1).detach().cpu().numpy()))"
      ]
    },
    {
      "cell_type": "code",
      "execution_count": null,
      "metadata": {
        "id": "4te6aMd0NfFx"
      },
      "outputs": [],
      "source": []
    }
  ],
  "metadata": {
    "accelerator": "GPU",
    "colab": {
      "gpuType": "T4",
      "provenance": []
    },
    "kernelspec": {
      "display_name": "Python 3",
      "name": "python3"
    },
    "language_info": {
      "codemirror_mode": {
        "name": "ipython",
        "version": 3
      },
      "file_extension": ".py",
      "mimetype": "text/x-python",
      "name": "python",
      "nbconvert_exporter": "python",
      "pygments_lexer": "ipython3",
      "version": "3.8.18"
    }
  },
  "nbformat": 4,
  "nbformat_minor": 0
}
