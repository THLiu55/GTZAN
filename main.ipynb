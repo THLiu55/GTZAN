{
 "cells": [
  {
   "cell_type": "markdown",
   "metadata": {},
   "source": [
    "# All in one"
   ]
  },
  {
   "cell_type": "code",
   "execution_count": 9,
   "metadata": {},
   "outputs": [
    {
     "name": "stdout",
     "output_type": "stream",
     "text": [
      "Defaulting to user installation because normal site-packages is not writeable\n",
      "Requirement already satisfied: torch in /home/thl775/.local/lib/python3.10/site-packages (from -r requirements.txt (line 1)) (2.2.2)\n",
      "Requirement already satisfied: torchvision in /home/thl775/.local/lib/python3.10/site-packages (from -r requirements.txt (line 2)) (0.17.2)\n",
      "Requirement already satisfied: scikit-learn in /home/thl775/.local/lib/python3.10/site-packages (from -r requirements.txt (line 3)) (1.4.2)\n",
      "Requirement already satisfied: pyyaml in /usr/lib/python3/dist-packages (from -r requirements.txt (line 4)) (5.4.1)\n",
      "Requirement already satisfied: numpy in /home/thl775/.local/lib/python3.10/site-packages (from -r requirements.txt (line 5)) (1.26.4)\n",
      "Requirement already satisfied: tqdm in /home/thl775/.local/lib/python3.10/site-packages (from -r requirements.txt (line 6)) (4.66.2)\n",
      "Requirement already satisfied: pandas in /home/thl775/.local/lib/python3.10/site-packages (from -r requirements.txt (line 7)) (2.2.1)\n",
      "Requirement already satisfied: matplotlib in /home/thl775/.local/lib/python3.10/site-packages (from -r requirements.txt (line 8)) (3.8.4)\n",
      "Requirement already satisfied: jupyter in /home/thl775/.local/lib/python3.10/site-packages (from -r requirements.txt (line 9)) (1.0.0)\n",
      "Requirement already satisfied: ipykernel in /home/thl775/.local/lib/python3.10/site-packages (from -r requirements.txt (line 10)) (6.29.4)\n",
      "Requirement already satisfied: ruamel.yaml in /home/thl775/.local/lib/python3.10/site-packages (from -r requirements.txt (line 11)) (0.18.6)\n",
      "Requirement already satisfied: librosa in /home/thl775/.local/lib/python3.10/site-packages (from -r requirements.txt (line 12)) (0.10.1)\n",
      "Requirement already satisfied: nvidia-nvtx-cu12==12.1.105 in /home/thl775/.local/lib/python3.10/site-packages (from torch->-r requirements.txt (line 1)) (12.1.105)\n",
      "Requirement already satisfied: jinja2 in /home/thl775/.local/lib/python3.10/site-packages (from torch->-r requirements.txt (line 1)) (3.1.3)\n",
      "Requirement already satisfied: nvidia-cudnn-cu12==8.9.2.26 in /home/thl775/.local/lib/python3.10/site-packages (from torch->-r requirements.txt (line 1)) (8.9.2.26)\n",
      "Requirement already satisfied: nvidia-cuda-runtime-cu12==12.1.105 in /home/thl775/.local/lib/python3.10/site-packages (from torch->-r requirements.txt (line 1)) (12.1.105)\n",
      "Requirement already satisfied: networkx in /home/thl775/.local/lib/python3.10/site-packages (from torch->-r requirements.txt (line 1)) (3.3)\n",
      "Requirement already satisfied: nvidia-cublas-cu12==12.1.3.1 in /home/thl775/.local/lib/python3.10/site-packages (from torch->-r requirements.txt (line 1)) (12.1.3.1)\n",
      "Requirement already satisfied: nvidia-cusparse-cu12==12.1.0.106 in /home/thl775/.local/lib/python3.10/site-packages (from torch->-r requirements.txt (line 1)) (12.1.0.106)\n",
      "Requirement already satisfied: filelock in /home/thl775/.local/lib/python3.10/site-packages (from torch->-r requirements.txt (line 1)) (3.13.4)\n",
      "Requirement already satisfied: typing-extensions>=4.8.0 in /home/thl775/.local/lib/python3.10/site-packages (from torch->-r requirements.txt (line 1)) (4.11.0)\n",
      "Requirement already satisfied: nvidia-curand-cu12==10.3.2.106 in /home/thl775/.local/lib/python3.10/site-packages (from torch->-r requirements.txt (line 1)) (10.3.2.106)\n",
      "Requirement already satisfied: nvidia-cuda-cupti-cu12==12.1.105 in /home/thl775/.local/lib/python3.10/site-packages (from torch->-r requirements.txt (line 1)) (12.1.105)\n",
      "Requirement already satisfied: nvidia-nccl-cu12==2.19.3 in /home/thl775/.local/lib/python3.10/site-packages (from torch->-r requirements.txt (line 1)) (2.19.3)\n",
      "Requirement already satisfied: sympy in /home/thl775/.local/lib/python3.10/site-packages (from torch->-r requirements.txt (line 1)) (1.12)\n",
      "Requirement already satisfied: nvidia-cusolver-cu12==11.4.5.107 in /home/thl775/.local/lib/python3.10/site-packages (from torch->-r requirements.txt (line 1)) (11.4.5.107)\n",
      "Requirement already satisfied: nvidia-cufft-cu12==11.0.2.54 in /home/thl775/.local/lib/python3.10/site-packages (from torch->-r requirements.txt (line 1)) (11.0.2.54)\n",
      "Requirement already satisfied: fsspec in /home/thl775/.local/lib/python3.10/site-packages (from torch->-r requirements.txt (line 1)) (2024.3.1)\n",
      "Requirement already satisfied: triton==2.2.0 in /home/thl775/.local/lib/python3.10/site-packages (from torch->-r requirements.txt (line 1)) (2.2.0)\n",
      "Requirement already satisfied: nvidia-cuda-nvrtc-cu12==12.1.105 in /home/thl775/.local/lib/python3.10/site-packages (from torch->-r requirements.txt (line 1)) (12.1.105)\n",
      "Requirement already satisfied: nvidia-nvjitlink-cu12 in /home/thl775/.local/lib/python3.10/site-packages (from nvidia-cusolver-cu12==11.4.5.107->torch->-r requirements.txt (line 1)) (12.4.127)\n",
      "Requirement already satisfied: pillow!=8.3.*,>=5.3.0 in /usr/lib/python3/dist-packages (from torchvision->-r requirements.txt (line 2)) (9.0.1)\n",
      "Requirement already satisfied: scipy>=1.6.0 in /home/thl775/.local/lib/python3.10/site-packages (from scikit-learn->-r requirements.txt (line 3)) (1.13.0)\n",
      "Requirement already satisfied: joblib>=1.2.0 in /home/thl775/.local/lib/python3.10/site-packages (from scikit-learn->-r requirements.txt (line 3)) (1.4.0)\n",
      "Requirement already satisfied: threadpoolctl>=2.0.0 in /home/thl775/.local/lib/python3.10/site-packages (from scikit-learn->-r requirements.txt (line 3)) (3.4.0)\n",
      "Requirement already satisfied: pytz>=2020.1 in /usr/lib/python3/dist-packages (from pandas->-r requirements.txt (line 7)) (2022.1)\n",
      "Requirement already satisfied: tzdata>=2022.7 in /home/thl775/.local/lib/python3.10/site-packages (from pandas->-r requirements.txt (line 7)) (2024.1)\n",
      "Requirement already satisfied: python-dateutil>=2.8.2 in /home/thl775/.local/lib/python3.10/site-packages (from pandas->-r requirements.txt (line 7)) (2.9.0.post0)\n",
      "Requirement already satisfied: cycler>=0.10 in /home/thl775/.local/lib/python3.10/site-packages (from matplotlib->-r requirements.txt (line 8)) (0.12.1)\n",
      "Requirement already satisfied: packaging>=20.0 in /home/thl775/.local/lib/python3.10/site-packages (from matplotlib->-r requirements.txt (line 8)) (24.0)\n",
      "Requirement already satisfied: contourpy>=1.0.1 in /home/thl775/.local/lib/python3.10/site-packages (from matplotlib->-r requirements.txt (line 8)) (1.2.1)\n",
      "Requirement already satisfied: fonttools>=4.22.0 in /home/thl775/.local/lib/python3.10/site-packages (from matplotlib->-r requirements.txt (line 8)) (4.51.0)\n",
      "Requirement already satisfied: kiwisolver>=1.3.1 in /home/thl775/.local/lib/python3.10/site-packages (from matplotlib->-r requirements.txt (line 8)) (1.4.5)\n",
      "Requirement already satisfied: pyparsing>=2.3.1 in /usr/lib/python3/dist-packages (from matplotlib->-r requirements.txt (line 8)) (2.4.7)\n",
      "Requirement already satisfied: jupyter-console in /home/thl775/.local/lib/python3.10/site-packages (from jupyter->-r requirements.txt (line 9)) (6.6.3)\n",
      "Requirement already satisfied: notebook in /home/thl775/.local/lib/python3.10/site-packages (from jupyter->-r requirements.txt (line 9)) (7.1.2)\n",
      "Requirement already satisfied: ipywidgets in /home/thl775/.local/lib/python3.10/site-packages (from jupyter->-r requirements.txt (line 9)) (8.1.2)\n",
      "Requirement already satisfied: qtconsole in /home/thl775/.local/lib/python3.10/site-packages (from jupyter->-r requirements.txt (line 9)) (5.5.1)\n",
      "Requirement already satisfied: nbconvert in /home/thl775/.local/lib/python3.10/site-packages (from jupyter->-r requirements.txt (line 9)) (7.16.3)\n",
      "Requirement already satisfied: comm>=0.1.1 in /home/thl775/.local/lib/python3.10/site-packages (from ipykernel->-r requirements.txt (line 10)) (0.2.2)\n",
      "Requirement already satisfied: pyzmq>=24 in /home/thl775/.local/lib/python3.10/site-packages (from ipykernel->-r requirements.txt (line 10)) (25.1.2)\n",
      "Requirement already satisfied: debugpy>=1.6.5 in /home/thl775/.local/lib/python3.10/site-packages (from ipykernel->-r requirements.txt (line 10)) (1.8.1)\n",
      "Requirement already satisfied: tornado>=6.1 in /home/thl775/.local/lib/python3.10/site-packages (from ipykernel->-r requirements.txt (line 10)) (6.4)\n",
      "Requirement already satisfied: nest-asyncio in /home/thl775/.local/lib/python3.10/site-packages (from ipykernel->-r requirements.txt (line 10)) (1.6.0)\n",
      "Requirement already satisfied: jupyter-core!=5.0.*,>=4.12 in /home/thl775/.local/lib/python3.10/site-packages (from ipykernel->-r requirements.txt (line 10)) (5.7.2)\n",
      "Requirement already satisfied: ipython>=7.23.1 in /home/thl775/.local/lib/python3.10/site-packages (from ipykernel->-r requirements.txt (line 10)) (8.23.0)\n",
      "Requirement already satisfied: psutil in /home/thl775/.local/lib/python3.10/site-packages (from ipykernel->-r requirements.txt (line 10)) (5.9.8)\n",
      "Requirement already satisfied: traitlets>=5.4.0 in /home/thl775/.local/lib/python3.10/site-packages (from ipykernel->-r requirements.txt (line 10)) (5.14.2)\n",
      "Requirement already satisfied: jupyter-client>=6.1.12 in /home/thl775/.local/lib/python3.10/site-packages (from ipykernel->-r requirements.txt (line 10)) (8.6.1)\n",
      "Requirement already satisfied: matplotlib-inline>=0.1 in /home/thl775/.local/lib/python3.10/site-packages (from ipykernel->-r requirements.txt (line 10)) (0.1.6)\n",
      "Requirement already satisfied: ruamel.yaml.clib>=0.2.7 in /home/thl775/.local/lib/python3.10/site-packages (from ruamel.yaml->-r requirements.txt (line 11)) (0.2.8)\n",
      "Requirement already satisfied: soxr>=0.3.2 in /home/thl775/.local/lib/python3.10/site-packages (from librosa->-r requirements.txt (line 12)) (0.3.7)\n",
      "Requirement already satisfied: audioread>=2.1.9 in /home/thl775/.local/lib/python3.10/site-packages (from librosa->-r requirements.txt (line 12)) (3.0.1)\n",
      "Requirement already satisfied: lazy-loader>=0.1 in /home/thl775/.local/lib/python3.10/site-packages (from librosa->-r requirements.txt (line 12)) (0.4)\n",
      "Requirement already satisfied: msgpack>=1.0 in /home/thl775/.local/lib/python3.10/site-packages (from librosa->-r requirements.txt (line 12)) (1.0.8)\n",
      "Requirement already satisfied: pooch>=1.0 in /home/thl775/.local/lib/python3.10/site-packages (from librosa->-r requirements.txt (line 12)) (1.8.1)\n",
      "Requirement already satisfied: decorator>=4.3.0 in /home/thl775/.local/lib/python3.10/site-packages (from librosa->-r requirements.txt (line 12)) (5.1.1)\n",
      "Requirement already satisfied: soundfile>=0.12.1 in /home/thl775/.local/lib/python3.10/site-packages (from librosa->-r requirements.txt (line 12)) (0.12.1)\n",
      "Requirement already satisfied: numba>=0.51.0 in /home/thl775/.local/lib/python3.10/site-packages (from librosa->-r requirements.txt (line 12)) (0.59.1)\n",
      "Requirement already satisfied: stack-data in /home/thl775/.local/lib/python3.10/site-packages (from ipython>=7.23.1->ipykernel->-r requirements.txt (line 10)) (0.6.3)\n",
      "Requirement already satisfied: jedi>=0.16 in /home/thl775/.local/lib/python3.10/site-packages (from ipython>=7.23.1->ipykernel->-r requirements.txt (line 10)) (0.19.1)\n",
      "Requirement already satisfied: pexpect>4.3 in /usr/lib/python3/dist-packages (from ipython>=7.23.1->ipykernel->-r requirements.txt (line 10)) (4.8.0)\n",
      "Requirement already satisfied: pygments>=2.4.0 in /usr/lib/python3/dist-packages (from ipython>=7.23.1->ipykernel->-r requirements.txt (line 10)) (2.11.2)\n",
      "Requirement already satisfied: exceptiongroup in /home/thl775/.local/lib/python3.10/site-packages (from ipython>=7.23.1->ipykernel->-r requirements.txt (line 10)) (1.2.0)\n",
      "Requirement already satisfied: prompt-toolkit<3.1.0,>=3.0.41 in /home/thl775/.local/lib/python3.10/site-packages (from ipython>=7.23.1->ipykernel->-r requirements.txt (line 10)) (3.0.43)\n",
      "Requirement already satisfied: platformdirs>=2.5 in /home/thl775/.local/lib/python3.10/site-packages (from jupyter-core!=5.0.*,>=4.12->ipykernel->-r requirements.txt (line 10)) (4.2.0)\n",
      "Requirement already satisfied: llvmlite<0.43,>=0.42.0dev0 in /home/thl775/.local/lib/python3.10/site-packages (from numba>=0.51.0->librosa->-r requirements.txt (line 12)) (0.42.0)\n",
      "Requirement already satisfied: requests>=2.19.0 in /home/thl775/.local/lib/python3.10/site-packages (from pooch>=1.0->librosa->-r requirements.txt (line 12)) (2.31.0)\n",
      "Requirement already satisfied: six>=1.5 in /usr/lib/python3/dist-packages (from python-dateutil>=2.8.2->pandas->-r requirements.txt (line 7)) (1.16.0)\n",
      "Requirement already satisfied: cffi>=1.0 in /home/thl775/.local/lib/python3.10/site-packages (from soundfile>=0.12.1->librosa->-r requirements.txt (line 12)) (1.16.0)\n",
      "Requirement already satisfied: widgetsnbextension~=4.0.10 in /home/thl775/.local/lib/python3.10/site-packages (from ipywidgets->jupyter->-r requirements.txt (line 9)) (4.0.10)\n",
      "Requirement already satisfied: jupyterlab-widgets~=3.0.10 in /home/thl775/.local/lib/python3.10/site-packages (from ipywidgets->jupyter->-r requirements.txt (line 9)) (3.0.10)\n",
      "Requirement already satisfied: MarkupSafe>=2.0 in /usr/lib/python3/dist-packages (from jinja2->torch->-r requirements.txt (line 1)) (2.0.1)\n",
      "Requirement already satisfied: mistune<4,>=2.0.3 in /home/thl775/.local/lib/python3.10/site-packages (from nbconvert->jupyter->-r requirements.txt (line 9)) (3.0.2)\n",
      "Requirement already satisfied: defusedxml in /home/thl775/.local/lib/python3.10/site-packages (from nbconvert->jupyter->-r requirements.txt (line 9)) (0.7.1)\n",
      "Requirement already satisfied: nbclient>=0.5.0 in /home/thl775/.local/lib/python3.10/site-packages (from nbconvert->jupyter->-r requirements.txt (line 9)) (0.10.0)\n",
      "Requirement already satisfied: beautifulsoup4 in /home/thl775/.local/lib/python3.10/site-packages (from nbconvert->jupyter->-r requirements.txt (line 9)) (4.12.3)\n",
      "Requirement already satisfied: tinycss2 in /home/thl775/.local/lib/python3.10/site-packages (from nbconvert->jupyter->-r requirements.txt (line 9)) (1.2.1)\n",
      "Requirement already satisfied: pandocfilters>=1.4.1 in /home/thl775/.local/lib/python3.10/site-packages (from nbconvert->jupyter->-r requirements.txt (line 9)) (1.5.1)\n",
      "Requirement already satisfied: bleach!=5.0.0 in /home/thl775/.local/lib/python3.10/site-packages (from nbconvert->jupyter->-r requirements.txt (line 9)) (6.1.0)\n",
      "Requirement already satisfied: nbformat>=5.7 in /home/thl775/.local/lib/python3.10/site-packages (from nbconvert->jupyter->-r requirements.txt (line 9)) (5.10.4)\n",
      "Requirement already satisfied: jupyterlab-pygments in /home/thl775/.local/lib/python3.10/site-packages (from nbconvert->jupyter->-r requirements.txt (line 9)) (0.3.0)\n",
      "Requirement already satisfied: jupyter-server<3,>=2.4.0 in /home/thl775/.local/lib/python3.10/site-packages (from notebook->jupyter->-r requirements.txt (line 9)) (2.13.0)\n",
      "Requirement already satisfied: notebook-shim<0.3,>=0.2 in /home/thl775/.local/lib/python3.10/site-packages (from notebook->jupyter->-r requirements.txt (line 9)) (0.2.4)\n",
      "Requirement already satisfied: jupyterlab<4.2,>=4.1.1 in /home/thl775/.local/lib/python3.10/site-packages (from notebook->jupyter->-r requirements.txt (line 9)) (4.1.6)\n",
      "Requirement already satisfied: jupyterlab-server<3,>=2.22.1 in /home/thl775/.local/lib/python3.10/site-packages (from notebook->jupyter->-r requirements.txt (line 9)) (2.26.0)\n",
      "Requirement already satisfied: qtpy>=2.4.0 in /home/thl775/.local/lib/python3.10/site-packages (from qtconsole->jupyter->-r requirements.txt (line 9)) (2.4.1)\n",
      "Requirement already satisfied: mpmath>=0.19 in /home/thl775/.local/lib/python3.10/site-packages (from sympy->torch->-r requirements.txt (line 1)) (1.3.0)\n",
      "Requirement already satisfied: webencodings in /home/thl775/.local/lib/python3.10/site-packages (from bleach!=5.0.0->nbconvert->jupyter->-r requirements.txt (line 9)) (0.5.1)\n",
      "Requirement already satisfied: pycparser in /home/thl775/.local/lib/python3.10/site-packages (from cffi>=1.0->soundfile>=0.12.1->librosa->-r requirements.txt (line 12)) (2.22)\n",
      "Requirement already satisfied: parso<0.9.0,>=0.8.3 in /home/thl775/.local/lib/python3.10/site-packages (from jedi>=0.16->ipython>=7.23.1->ipykernel->-r requirements.txt (line 10)) (0.8.4)\n",
      "Requirement already satisfied: anyio>=3.1.0 in /home/thl775/.local/lib/python3.10/site-packages (from jupyter-server<3,>=2.4.0->notebook->jupyter->-r requirements.txt (line 9)) (4.3.0)\n",
      "Requirement already satisfied: argon2-cffi in /home/thl775/.local/lib/python3.10/site-packages (from jupyter-server<3,>=2.4.0->notebook->jupyter->-r requirements.txt (line 9)) (23.1.0)\n",
      "Requirement already satisfied: send2trash>=1.8.2 in /home/thl775/.local/lib/python3.10/site-packages (from jupyter-server<3,>=2.4.0->notebook->jupyter->-r requirements.txt (line 9)) (1.8.3)\n",
      "Requirement already satisfied: jupyter-events>=0.9.0 in /home/thl775/.local/lib/python3.10/site-packages (from jupyter-server<3,>=2.4.0->notebook->jupyter->-r requirements.txt (line 9)) (0.10.0)\n",
      "Requirement already satisfied: overrides in /home/thl775/.local/lib/python3.10/site-packages (from jupyter-server<3,>=2.4.0->notebook->jupyter->-r requirements.txt (line 9)) (7.7.0)\n",
      "Requirement already satisfied: prometheus-client in /home/thl775/.local/lib/python3.10/site-packages (from jupyter-server<3,>=2.4.0->notebook->jupyter->-r requirements.txt (line 9)) (0.20.0)\n",
      "Requirement already satisfied: jupyter-server-terminals in /home/thl775/.local/lib/python3.10/site-packages (from jupyter-server<3,>=2.4.0->notebook->jupyter->-r requirements.txt (line 9)) (0.5.3)\n",
      "Requirement already satisfied: terminado>=0.8.3 in /home/thl775/.local/lib/python3.10/site-packages (from jupyter-server<3,>=2.4.0->notebook->jupyter->-r requirements.txt (line 9)) (0.18.1)\n",
      "Requirement already satisfied: websocket-client in /usr/lib/python3/dist-packages (from jupyter-server<3,>=2.4.0->notebook->jupyter->-r requirements.txt (line 9)) (1.2.3)\n",
      "Requirement already satisfied: async-lru>=1.0.0 in /home/thl775/.local/lib/python3.10/site-packages (from jupyterlab<4.2,>=4.1.1->notebook->jupyter->-r requirements.txt (line 9)) (2.0.4)\n",
      "Requirement already satisfied: tomli>=1.2.2 in /home/thl775/.local/lib/python3.10/site-packages (from jupyterlab<4.2,>=4.1.1->notebook->jupyter->-r requirements.txt (line 9)) (2.0.1)\n",
      "Requirement already satisfied: httpx>=0.25.0 in /home/thl775/.local/lib/python3.10/site-packages (from jupyterlab<4.2,>=4.1.1->notebook->jupyter->-r requirements.txt (line 9)) (0.27.0)\n",
      "Requirement already satisfied: jupyter-lsp>=2.0.0 in /home/thl775/.local/lib/python3.10/site-packages (from jupyterlab<4.2,>=4.1.1->notebook->jupyter->-r requirements.txt (line 9)) (2.2.5)\n",
      "Requirement already satisfied: jsonschema>=4.18.0 in /home/thl775/.local/lib/python3.10/site-packages (from jupyterlab-server<3,>=2.22.1->notebook->jupyter->-r requirements.txt (line 9)) (4.21.1)\n",
      "Requirement already satisfied: json5>=0.9.0 in /home/thl775/.local/lib/python3.10/site-packages (from jupyterlab-server<3,>=2.22.1->notebook->jupyter->-r requirements.txt (line 9)) (0.9.24)\n",
      "Requirement already satisfied: babel>=2.10 in /home/thl775/.local/lib/python3.10/site-packages (from jupyterlab-server<3,>=2.22.1->notebook->jupyter->-r requirements.txt (line 9)) (2.14.0)\n",
      "Requirement already satisfied: fastjsonschema>=2.15 in /home/thl775/.local/lib/python3.10/site-packages (from nbformat>=5.7->nbconvert->jupyter->-r requirements.txt (line 9)) (2.19.1)\n",
      "Requirement already satisfied: wcwidth in /home/thl775/.local/lib/python3.10/site-packages (from prompt-toolkit<3.1.0,>=3.0.41->ipython>=7.23.1->ipykernel->-r requirements.txt (line 10)) (0.2.13)\n",
      "Requirement already satisfied: charset-normalizer<4,>=2 in /home/thl775/.local/lib/python3.10/site-packages (from requests>=2.19.0->pooch>=1.0->librosa->-r requirements.txt (line 12)) (3.3.2)\n",
      "Requirement already satisfied: certifi>=2017.4.17 in /usr/lib/python3/dist-packages (from requests>=2.19.0->pooch>=1.0->librosa->-r requirements.txt (line 12)) (2020.6.20)\n",
      "Requirement already satisfied: urllib3<3,>=1.21.1 in /usr/lib/python3/dist-packages (from requests>=2.19.0->pooch>=1.0->librosa->-r requirements.txt (line 12)) (1.26.5)\n",
      "Requirement already satisfied: idna<4,>=2.5 in /usr/lib/python3/dist-packages (from requests>=2.19.0->pooch>=1.0->librosa->-r requirements.txt (line 12)) (3.3)\n",
      "Requirement already satisfied: soupsieve>1.2 in /home/thl775/.local/lib/python3.10/site-packages (from beautifulsoup4->nbconvert->jupyter->-r requirements.txt (line 9)) (2.5)\n",
      "Requirement already satisfied: executing>=1.2.0 in /home/thl775/.local/lib/python3.10/site-packages (from stack-data->ipython>=7.23.1->ipykernel->-r requirements.txt (line 10)) (2.0.1)\n",
      "Requirement already satisfied: pure-eval in /home/thl775/.local/lib/python3.10/site-packages (from stack-data->ipython>=7.23.1->ipykernel->-r requirements.txt (line 10)) (0.2.2)\n",
      "Requirement already satisfied: asttokens>=2.1.0 in /home/thl775/.local/lib/python3.10/site-packages (from stack-data->ipython>=7.23.1->ipykernel->-r requirements.txt (line 10)) (2.4.1)\n",
      "Requirement already satisfied: sniffio>=1.1 in /home/thl775/.local/lib/python3.10/site-packages (from anyio>=3.1.0->jupyter-server<3,>=2.4.0->notebook->jupyter->-r requirements.txt (line 9)) (1.3.1)\n",
      "Requirement already satisfied: httpcore==1.* in /home/thl775/.local/lib/python3.10/site-packages (from httpx>=0.25.0->jupyterlab<4.2,>=4.1.1->notebook->jupyter->-r requirements.txt (line 9)) (1.0.5)\n",
      "Requirement already satisfied: h11<0.15,>=0.13 in /home/thl775/.local/lib/python3.10/site-packages (from httpcore==1.*->httpx>=0.25.0->jupyterlab<4.2,>=4.1.1->notebook->jupyter->-r requirements.txt (line 9)) (0.14.0)\n",
      "Requirement already satisfied: attrs>=22.2.0 in /home/thl775/.local/lib/python3.10/site-packages (from jsonschema>=4.18.0->jupyterlab-server<3,>=2.22.1->notebook->jupyter->-r requirements.txt (line 9)) (23.2.0)\n",
      "Requirement already satisfied: jsonschema-specifications>=2023.03.6 in /home/thl775/.local/lib/python3.10/site-packages (from jsonschema>=4.18.0->jupyterlab-server<3,>=2.22.1->notebook->jupyter->-r requirements.txt (line 9)) (2023.12.1)\n",
      "Requirement already satisfied: rpds-py>=0.7.1 in /home/thl775/.local/lib/python3.10/site-packages (from jsonschema>=4.18.0->jupyterlab-server<3,>=2.22.1->notebook->jupyter->-r requirements.txt (line 9)) (0.18.0)\n",
      "Requirement already satisfied: referencing>=0.28.4 in /home/thl775/.local/lib/python3.10/site-packages (from jsonschema>=4.18.0->jupyterlab-server<3,>=2.22.1->notebook->jupyter->-r requirements.txt (line 9)) (0.34.0)\n",
      "Requirement already satisfied: rfc3986-validator>=0.1.1 in /home/thl775/.local/lib/python3.10/site-packages (from jupyter-events>=0.9.0->jupyter-server<3,>=2.4.0->notebook->jupyter->-r requirements.txt (line 9)) (0.1.1)\n",
      "Requirement already satisfied: python-json-logger>=2.0.4 in /home/thl775/.local/lib/python3.10/site-packages (from jupyter-events>=0.9.0->jupyter-server<3,>=2.4.0->notebook->jupyter->-r requirements.txt (line 9)) (2.0.7)\n",
      "Requirement already satisfied: rfc3339-validator in /home/thl775/.local/lib/python3.10/site-packages (from jupyter-events>=0.9.0->jupyter-server<3,>=2.4.0->notebook->jupyter->-r requirements.txt (line 9)) (0.1.4)\n",
      "Requirement already satisfied: ptyprocess in /usr/lib/python3/dist-packages (from terminado>=0.8.3->jupyter-server<3,>=2.4.0->notebook->jupyter->-r requirements.txt (line 9)) (0.7.0)\n",
      "Requirement already satisfied: argon2-cffi-bindings in /home/thl775/.local/lib/python3.10/site-packages (from argon2-cffi->jupyter-server<3,>=2.4.0->notebook->jupyter->-r requirements.txt (line 9)) (21.2.0)\n",
      "Requirement already satisfied: isoduration in /home/thl775/.local/lib/python3.10/site-packages (from jsonschema>=4.18.0->jupyterlab-server<3,>=2.22.1->notebook->jupyter->-r requirements.txt (line 9)) (20.11.0)\n",
      "Requirement already satisfied: uri-template in /home/thl775/.local/lib/python3.10/site-packages (from jsonschema>=4.18.0->jupyterlab-server<3,>=2.22.1->notebook->jupyter->-r requirements.txt (line 9)) (1.3.0)\n",
      "Requirement already satisfied: fqdn in /home/thl775/.local/lib/python3.10/site-packages (from jsonschema>=4.18.0->jupyterlab-server<3,>=2.22.1->notebook->jupyter->-r requirements.txt (line 9)) (1.5.1)\n",
      "Requirement already satisfied: jsonpointer>1.13 in /home/thl775/.local/lib/python3.10/site-packages (from jsonschema>=4.18.0->jupyterlab-server<3,>=2.22.1->notebook->jupyter->-r requirements.txt (line 9)) (2.4)\n",
      "Requirement already satisfied: webcolors>=1.11 in /home/thl775/.local/lib/python3.10/site-packages (from jsonschema>=4.18.0->jupyterlab-server<3,>=2.22.1->notebook->jupyter->-r requirements.txt (line 9)) (1.13)\n",
      "Requirement already satisfied: arrow>=0.15.0 in /home/thl775/.local/lib/python3.10/site-packages (from isoduration->jsonschema>=4.18.0->jupyterlab-server<3,>=2.22.1->notebook->jupyter->-r requirements.txt (line 9)) (1.3.0)\n",
      "Requirement already satisfied: types-python-dateutil>=2.8.10 in /home/thl775/.local/lib/python3.10/site-packages (from arrow>=0.15.0->isoduration->jsonschema>=4.18.0->jupyterlab-server<3,>=2.22.1->notebook->jupyter->-r requirements.txt (line 9)) (2.9.0.20240316)\n"
     ]
    }
   ],
   "source": [
    "! pip install -r requirements.txt"
   ]
  },
  {
   "cell_type": "markdown",
   "metadata": {},
   "source": [
    "\n",
    "### data preprocess\n",
    "Here I extract MFCC from the audio data (you can ignore it since the processed result - `data.json` is already there)"
   ]
  },
  {
   "cell_type": "code",
   "execution_count": 4,
   "metadata": {},
   "outputs": [
    {
     "name": "stdout",
     "output_type": "stream",
     "text": [
      "Processing classical\n"
     ]
    },
    {
     "name": "stderr",
     "output_type": "stream",
     "text": [
      "100%|██████████| 100/100 [00:14<00:00,  6.69it/s]\n"
     ]
    },
    {
     "name": "stdout",
     "output_type": "stream",
     "text": [
      "Processing metal\n"
     ]
    },
    {
     "name": "stderr",
     "output_type": "stream",
     "text": [
      "100%|██████████| 100/100 [00:11<00:00,  8.83it/s]\n"
     ]
    },
    {
     "name": "stdout",
     "output_type": "stream",
     "text": [
      "Processing disco\n"
     ]
    },
    {
     "name": "stderr",
     "output_type": "stream",
     "text": [
      "100%|██████████| 100/100 [00:13<00:00,  7.38it/s]\n"
     ]
    },
    {
     "name": "stdout",
     "output_type": "stream",
     "text": [
      "Processing country\n"
     ]
    },
    {
     "name": "stderr",
     "output_type": "stream",
     "text": [
      "100%|██████████| 100/100 [00:13<00:00,  7.69it/s]\n"
     ]
    },
    {
     "name": "stdout",
     "output_type": "stream",
     "text": [
      "Processing jazz\n"
     ]
    },
    {
     "name": "stderr",
     "output_type": "stream",
     "text": [
      "100%|██████████| 100/100 [00:13<00:00,  7.66it/s]\n"
     ]
    },
    {
     "name": "stdout",
     "output_type": "stream",
     "text": [
      "Processing rock\n"
     ]
    },
    {
     "name": "stderr",
     "output_type": "stream",
     "text": [
      "100%|██████████| 100/100 [00:13<00:00,  7.66it/s]\n"
     ]
    },
    {
     "name": "stdout",
     "output_type": "stream",
     "text": [
      "Processing hiphop\n"
     ]
    },
    {
     "name": "stderr",
     "output_type": "stream",
     "text": [
      "100%|██████████| 100/100 [00:12<00:00,  7.74it/s]\n"
     ]
    },
    {
     "name": "stdout",
     "output_type": "stream",
     "text": [
      "Processing blues\n"
     ]
    },
    {
     "name": "stderr",
     "output_type": "stream",
     "text": [
      "100%|██████████| 100/100 [00:12<00:00,  7.87it/s]\n"
     ]
    },
    {
     "name": "stdout",
     "output_type": "stream",
     "text": [
      "Processing reggae\n"
     ]
    },
    {
     "name": "stderr",
     "output_type": "stream",
     "text": [
      "100%|██████████| 100/100 [00:13<00:00,  7.54it/s]\n"
     ]
    },
    {
     "name": "stdout",
     "output_type": "stream",
     "text": [
      "Processing pop\n"
     ]
    },
    {
     "name": "stderr",
     "output_type": "stream",
     "text": [
      "100%|██████████| 100/100 [00:13<00:00,  7.37it/s]\n"
     ]
    },
    {
     "name": "stdout",
     "output_type": "stream",
     "text": [
      "Saving data to data.json\n"
     ]
    }
   ],
   "source": [
    "from utils.preprocess import load_audio\n",
    "from utils.params import Params\n",
    "\n",
    "params = Params(\"hparams.yaml\", \"preprocess\")\n",
    "load_audio(params)"
   ]
  },
  {
   "cell_type": "markdown",
   "metadata": {},
   "source": [
    "### Function to draw loss chart"
   ]
  },
  {
   "cell_type": "code",
   "execution_count": 5,
   "metadata": {},
   "outputs": [],
   "source": [
    "import json\n",
    "import matplotlib.pyplot as plt\n",
    "\n",
    "def draw_loss_graph(log_path: str):\n",
    "    with open(log_path, 'r') as f:\n",
    "        loss = json.load(f)\n",
    "    train_loss = [l[1]['train_loss'] for l in loss.items()]\n",
    "    val_loss = [l[1]['val_loss'] for l in loss.items()]\n",
    "    plt.plot(train_loss, label='train')\n",
    "    plt.plot(val_loss, label='valid')\n",
    "    plt.legend()\n",
    "    plt.show()"
   ]
  },
  {
   "cell_type": "markdown",
   "metadata": {},
   "source": [
    "### Clear all logs & checkpoints (Optional)"
   ]
  },
  {
   "cell_type": "code",
   "execution_count": 6,
   "metadata": {},
   "outputs": [],
   "source": [
    "! bash clear.sh"
   ]
  },
  {
   "cell_type": "markdown",
   "metadata": {},
   "source": [
    "### Train CNN model"
   ]
  },
  {
   "cell_type": "code",
   "execution_count": 11,
   "metadata": {},
   "outputs": [
    {
     "name": "stdout",
     "output_type": "stream",
     "text": [
      "Loading data from data.json\n",
      "100%|█████████████████████████████████████████| 219/219 [00:07<00:00, 30.98it/s]\n",
      "EPOCH 1, train_loss: 1.7953592008406962, val_loss: 1.5251610279083252, val_acc: 0.4485981308411215\n",
      "100%|█████████████████████████████████████████| 219/219 [00:07<00:00, 30.05it/s]\n",
      "EPOCH 2, train_loss: 1.4465234121051402, val_loss: 1.3109145164489746, val_acc: 0.5403871829105474\n",
      "100%|█████████████████████████████████████████| 219/219 [00:07<00:00, 29.88it/s]\n",
      "EPOCH 3, train_loss: 1.285246545021687, val_loss: 1.2452001571655273, val_acc: 0.5697596795727636\n",
      "100%|█████████████████████████████████████████| 219/219 [00:08<00:00, 27.29it/s]\n",
      "EPOCH 4, train_loss: 1.1960877633969718, val_loss: 1.1493130922317505, val_acc: 0.6114819759679573\n",
      "100%|█████████████████████████████████████████| 219/219 [00:07<00:00, 27.38it/s]\n",
      "EPOCH 5, train_loss: 1.0976188133615967, val_loss: 1.0852479934692383, val_acc: 0.6281708945260347\n",
      "100%|█████████████████████████████████████████| 219/219 [00:07<00:00, 27.38it/s]\n",
      "EPOCH 6, train_loss: 1.0297804297110356, val_loss: 1.1220111846923828, val_acc: 0.6138184245660881\n",
      "100%|█████████████████████████████████████████| 219/219 [00:08<00:00, 26.87it/s]\n",
      "EPOCH 7, train_loss: 0.9758210800109653, val_loss: 1.021837830543518, val_acc: 0.6421895861148198\n",
      "100%|█████████████████████████████████████████| 219/219 [00:07<00:00, 27.58it/s]\n",
      "EPOCH 8, train_loss: 0.9232731384968539, val_loss: 1.0367909669876099, val_acc: 0.6398531375166889\n",
      "100%|█████████████████████████████████████████| 219/219 [00:08<00:00, 26.74it/s]\n",
      "EPOCH 9, train_loss: 0.8726114135816556, val_loss: 0.9792580008506775, val_acc: 0.654539385847797\n",
      "100%|█████████████████████████████████████████| 219/219 [00:08<00:00, 25.78it/s]\n",
      "EPOCH 10, train_loss: 0.8486688368090796, val_loss: 0.9656077027320862, val_acc: 0.6548731642189586\n",
      "100%|█████████████████████████████████████████| 219/219 [00:11<00:00, 19.05it/s]\n",
      "EPOCH 11, train_loss: 0.8080743537583482, val_loss: 0.9366777539253235, val_acc: 0.6675567423230975\n",
      "100%|█████████████████████████████████████████| 219/219 [00:10<00:00, 20.20it/s]\n",
      "EPOCH 12, train_loss: 0.764706847181014, val_loss: 0.9257086515426636, val_acc: 0.6779038718291055\n",
      "100%|█████████████████████████████████████████| 219/219 [00:08<00:00, 25.09it/s]\n",
      "EPOCH 13, train_loss: 0.7261504641640077, val_loss: 0.910640299320221, val_acc: 0.6902536715620827\n",
      "100%|█████████████████████████████████████████| 219/219 [00:08<00:00, 24.74it/s]\n",
      "EPOCH 14, train_loss: 0.7014441312453069, val_loss: 0.876947283744812, val_acc: 0.6852469959946595\n",
      "100%|█████████████████████████████████████████| 219/219 [00:09<00:00, 22.88it/s]\n",
      "EPOCH 15, train_loss: 0.6769841683840533, val_loss: 0.8650403618812561, val_acc: 0.6972630173564753\n",
      "100%|█████████████████████████████████████████| 219/219 [00:09<00:00, 22.64it/s]\n",
      "EPOCH 16, train_loss: 0.6497033634863862, val_loss: 0.8511285185813904, val_acc: 0.687917222963952\n",
      "100%|█████████████████████████████████████████| 219/219 [00:10<00:00, 20.52it/s]\n",
      "EPOCH 17, train_loss: 0.6116892791806011, val_loss: 0.908692479133606, val_acc: 0.6685580774365821\n",
      "100%|█████████████████████████████████████████| 219/219 [00:10<00:00, 20.29it/s]\n"
     ]
    }
   ],
   "source": [
    "! python train.py CNN"
   ]
  },
  {
   "cell_type": "code",
   "execution_count": null,
   "metadata": {},
   "outputs": [
    {
     "ename": "FileNotFoundError",
     "evalue": "[Errno 2] No such file or directory: 'logs/cnn.json'",
     "output_type": "error",
     "traceback": [
      "\u001b[0;31m---------------------------------------------------------------------------\u001b[0m",
      "\u001b[0;31mFileNotFoundError\u001b[0m                         Traceback (most recent call last)",
      "Cell \u001b[0;32mIn[8], line 1\u001b[0m\n\u001b[0;32m----> 1\u001b[0m \u001b[43mdraw_loss_graph\u001b[49m\u001b[43m(\u001b[49m\u001b[38;5;124;43m'\u001b[39;49m\u001b[38;5;124;43mlogs/cnn.json\u001b[39;49m\u001b[38;5;124;43m'\u001b[39;49m\u001b[43m)\u001b[49m\n",
      "Cell \u001b[0;32mIn[5], line 5\u001b[0m, in \u001b[0;36mdraw_loss_graph\u001b[0;34m(log_path)\u001b[0m\n\u001b[1;32m      4\u001b[0m \u001b[38;5;28;01mdef\u001b[39;00m \u001b[38;5;21mdraw_loss_graph\u001b[39m(log_path: \u001b[38;5;28mstr\u001b[39m):\n\u001b[0;32m----> 5\u001b[0m     \u001b[38;5;28;01mwith\u001b[39;00m \u001b[38;5;28;43mopen\u001b[39;49m\u001b[43m(\u001b[49m\u001b[43mlog_path\u001b[49m\u001b[43m,\u001b[49m\u001b[43m \u001b[49m\u001b[38;5;124;43m'\u001b[39;49m\u001b[38;5;124;43mr\u001b[39;49m\u001b[38;5;124;43m'\u001b[39;49m\u001b[43m)\u001b[49m \u001b[38;5;28;01mas\u001b[39;00m f:\n\u001b[1;32m      6\u001b[0m         loss \u001b[38;5;241m=\u001b[39m json\u001b[38;5;241m.\u001b[39mload(f)\n\u001b[1;32m      7\u001b[0m     train_loss \u001b[38;5;241m=\u001b[39m [l[\u001b[38;5;241m1\u001b[39m][\u001b[38;5;124m'\u001b[39m\u001b[38;5;124mtrain_loss\u001b[39m\u001b[38;5;124m'\u001b[39m] \u001b[38;5;28;01mfor\u001b[39;00m l \u001b[38;5;129;01min\u001b[39;00m loss\u001b[38;5;241m.\u001b[39mitems()]\n",
      "File \u001b[0;32m~/.local/lib/python3.10/site-packages/IPython/core/interactiveshell.py:324\u001b[0m, in \u001b[0;36m_modified_open\u001b[0;34m(file, *args, **kwargs)\u001b[0m\n\u001b[1;32m    317\u001b[0m \u001b[38;5;28;01mif\u001b[39;00m file \u001b[38;5;129;01min\u001b[39;00m {\u001b[38;5;241m0\u001b[39m, \u001b[38;5;241m1\u001b[39m, \u001b[38;5;241m2\u001b[39m}:\n\u001b[1;32m    318\u001b[0m     \u001b[38;5;28;01mraise\u001b[39;00m \u001b[38;5;167;01mValueError\u001b[39;00m(\n\u001b[1;32m    319\u001b[0m         \u001b[38;5;124mf\u001b[39m\u001b[38;5;124m\"\u001b[39m\u001b[38;5;124mIPython won\u001b[39m\u001b[38;5;124m'\u001b[39m\u001b[38;5;124mt let you open fd=\u001b[39m\u001b[38;5;132;01m{\u001b[39;00mfile\u001b[38;5;132;01m}\u001b[39;00m\u001b[38;5;124m by default \u001b[39m\u001b[38;5;124m\"\u001b[39m\n\u001b[1;32m    320\u001b[0m         \u001b[38;5;124m\"\u001b[39m\u001b[38;5;124mas it is likely to crash IPython. If you know what you are doing, \u001b[39m\u001b[38;5;124m\"\u001b[39m\n\u001b[1;32m    321\u001b[0m         \u001b[38;5;124m\"\u001b[39m\u001b[38;5;124myou can use builtins\u001b[39m\u001b[38;5;124m'\u001b[39m\u001b[38;5;124m open.\u001b[39m\u001b[38;5;124m\"\u001b[39m\n\u001b[1;32m    322\u001b[0m     )\n\u001b[0;32m--> 324\u001b[0m \u001b[38;5;28;01mreturn\u001b[39;00m \u001b[43mio_open\u001b[49m\u001b[43m(\u001b[49m\u001b[43mfile\u001b[49m\u001b[43m,\u001b[49m\u001b[43m \u001b[49m\u001b[38;5;241;43m*\u001b[39;49m\u001b[43margs\u001b[49m\u001b[43m,\u001b[49m\u001b[43m \u001b[49m\u001b[38;5;241;43m*\u001b[39;49m\u001b[38;5;241;43m*\u001b[39;49m\u001b[43mkwargs\u001b[49m\u001b[43m)\u001b[49m\n",
      "\u001b[0;31mFileNotFoundError\u001b[0m: [Errno 2] No such file or directory: 'logs/cnn.json'"
     ]
    }
   ],
   "source": [
    "draw_loss_graph('logs/cnn.json')"
   ]
  },
  {
   "cell_type": "markdown",
   "metadata": {},
   "source": [
    "### Train MLP model"
   ]
  },
  {
   "cell_type": "code",
   "execution_count": null,
   "metadata": {},
   "outputs": [],
   "source": [
    "!python train.py MLP"
   ]
  },
  {
   "cell_type": "code",
   "execution_count": null,
   "metadata": {},
   "outputs": [],
   "source": [
    "draw_loss_graph('logs/mlp.json')"
   ]
  },
  {
   "cell_type": "markdown",
   "metadata": {},
   "source": [
    "# LSTM Model"
   ]
  },
  {
   "cell_type": "code",
   "execution_count": null,
   "metadata": {},
   "outputs": [],
   "source": [
    "!python train.py LSTM"
   ]
  },
  {
   "cell_type": "code",
   "execution_count": null,
   "metadata": {},
   "outputs": [],
   "source": [
    "draw_loss_graph('logs/lstm.json')"
   ]
  }
 ],
 "metadata": {
  "kernelspec": {
   "display_name": "comp47490",
   "language": "python",
   "name": "python3"
  },
  "language_info": {
   "codemirror_mode": {
    "name": "ipython",
    "version": 3
   },
   "file_extension": ".py",
   "mimetype": "text/x-python",
   "name": "python",
   "nbconvert_exporter": "python",
   "pygments_lexer": "ipython3",
   "version": "3.10.12"
  }
 },
 "nbformat": 4,
 "nbformat_minor": 2
}
